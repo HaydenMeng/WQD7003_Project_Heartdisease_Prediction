{
 "cells": [
  {
   "cell_type": "markdown",
   "metadata": {},
   "source": [
    "# Early disease intervention and simulation of intervention effects"
   ]
  },
  {
   "cell_type": "markdown",
   "metadata": {},
   "source": [
    "*WQD7003 Group 8*\n",
    "\n",
    "*Leader: MENG HUIDAN(23104917)*\n",
    "\n",
    "*Member1: xxx(fill your name)*\n",
    "\n",
    "*Member2: xxx(fill your name)*\n",
    "\n",
    "*Member3: xxx(fill your name)*\n",
    "\n",
    "*Member4: xxx(fill your name)*"
   ]
  },
  {
   "cell_type": "markdown",
   "metadata": {},
   "source": [
    "## Background\n",
    "**Current heart disease models are mostly used for risk assessment and lack guidance on intervention effects for users.**"
   ]
  },
  {
   "cell_type": "markdown",
   "metadata": {},
   "source": [
    "## Plan\n",
    "**User input of a healthy behavior intervention plan (e.g., reduce BMI by 2, or get an extra hour of sleep per day).**\n",
    "\n",
    "**The model simulates changes in health status and risk after intervention, helping users understand the importance of lifestyle changes.**"
   ]
  },
  {
   "cell_type": "markdown",
   "metadata": {},
   "source": [
    "## Accomplish"
   ]
  },
  {
   "cell_type": "markdown",
   "metadata": {},
   "source": [
    "### Data Cleaning\n",
    "*Author: xxx(fill your name)*"
   ]
  },
  {
   "cell_type": "markdown",
   "metadata": {},
   "source": [
    "### EDA Analysis\n",
    "*Author: xxx(fill your name)*"
   ]
  },
  {
   "cell_type": "markdown",
   "metadata": {},
   "source": [
    "### Feature Engineering\n",
    "*Author: xxx(fill your name)*"
   ]
  },
  {
   "cell_type": "code",
   "execution_count": 2,
   "metadata": {},
   "outputs": [],
   "source": [
    "import pandas as pd\n",
    "import numpy as np\n",
    "import matplotlib.pyplot as plt\n",
    "import seaborn as sns\n",
    "\n",
    "# Load data\n",
    "data = pd.read_csv('cleaned_file.csv')"
   ]
  },
  {
   "cell_type": "code",
   "execution_count": 3,
   "metadata": {},
   "outputs": [
    {
     "name": "stdout",
     "output_type": "stream",
     "text": [
      "Final number of features： 42\n"
     ]
    }
   ],
   "source": [
    "from sklearn.preprocessing import OneHotEncoder, StandardScaler, LabelEncoder\n",
    "\n",
    "# Initialize known binary variables, categorical variables and numerical variables\n",
    "binary_columns = [\"HadStroke\",\"PneumoVaxEver\",\"HadArthritis\",\"HadKidneyDisease\",\"DeafOrHardOfHearing\",\"HadHeartAttack\", \"HadAngina\", \"ChestScan\",\"DifficultyWalking\",\"HadDiabetes\",\"HadCOPD\"]  # 已知的二元变量\n",
    "categorical_columns = [\"GeneralHealth\", \"SmokerStatus\", \"AgeCategory\", \"RemovedTeeth\"]  # Categorical variables\n",
    "numerical_columns = [\"PhysicalHealthDays\", \"MentalHealthDays\", \"BMI\", \"HeightInMeters\", \"WeightInKilograms\"]  # Numeric variables\n",
    "\n",
    "# Load data\n",
    "df = pd.DataFrame()\n",
    "\n",
    "# Numeric variable standardization\n",
    "scaler = StandardScaler()\n",
    "data[numerical_columns] = scaler.fit_transform(data[numerical_columns])\n",
    "\n",
    "# One-Hot Coding of Categorical Variables\n",
    "# Assume the possible values of the categorical variable during training (obtained from the data set)\n",
    "general_health_values = [\"Poor\", \"Fair\", \"Good\", \"VeryGood\", \"Excellent\"]\n",
    "smoker_status_values = [\"Current smoker - now smokes every day\", \"Current smoker - now smokes some days\", \"Former smoker\", \"Never smoked\"]\n",
    "age_category_values = [\"Age 80 or older\", \"Age 75 to 79\", \"Age 70 to 74\", \"Age 65 to 69\", \"Age 60 to 64\", \"Age 55 to 59\", \"Age 50 to 54\", \"Age 40 to 44\", \"Age 35 to 39\",\"Age 30 to 34\",\"Age 25 to 29\",\"Age 18 to 24\",]\n",
    "removed_teeth_values = [\"1 to 5\", \"6 or more, but not all\", \"None of them\", \"All\"]\n",
    "\n",
    "# One-Hot Encoding\n",
    "data = pd.get_dummies(data, columns=categorical_columns)\n",
    "\n",
    "# Update categorical variable column names\n",
    "# Get all newly generated column names\n",
    "new_categorical_columns = [col for col in data.columns if any(cat_col in col for cat_col in categorical_columns)]\n",
    "\n",
    "# Binary variable processing\n",
    "def binary_encoder(x):\n",
    "    return 1 if x == 'Yes' or x == 'Male' else 0\n",
    "\n",
    "for col in binary_columns:\n",
    "    data[col] = data[col].apply(binary_encoder)\n",
    "\n",
    "# Merge all columns that need to be retained\n",
    "columns_to_keep = binary_columns + new_categorical_columns + numerical_columns\n",
    "df = data[columns_to_keep]\n",
    "# Check out the final features\n",
    "print(\"Final number of features：\", df.shape[1])"
   ]
  },
  {
   "cell_type": "markdown",
   "metadata": {},
   "source": [
    "### Model training and optimization\n",
    "*Author: MENG HUIDAN*"
   ]
  },
  {
   "cell_type": "markdown",
   "metadata": {},
   "source": [
    "**Separate training set, validation set and test set.**"
   ]
  },
  {
   "cell_type": "code",
   "execution_count": 4,
   "metadata": {},
   "outputs": [],
   "source": [
    "# Separate training set, validation set and test set.\n",
    "# Randomly partition the data using an 8:1:1 ratio.\n",
    "from sklearn.model_selection import train_test_split\n",
    "\n",
    "X = df.drop(['HadHeartAttack'], axis=1)\n",
    "y = df['HadHeartAttack']\n",
    "\n",
    "X_train, X_temp, y_train, y_temp = train_test_split(X, y, test_size=0.2, random_state=42)\n",
    "X_val, X_test, y_val, y_test = train_test_split(X_temp, y_temp, test_size=0.5, random_state=42)"
   ]
  },
  {
   "cell_type": "markdown",
   "metadata": {},
   "source": [
    "**Logistic regression**"
   ]
  },
  {
   "cell_type": "markdown",
   "metadata": {},
   "source": [
    "Finding the best parameters: This method may take some time to run. You can choose to skip it and directly use the model training code below that already uses the best parameters."
   ]
  },
  {
   "cell_type": "code",
   "execution_count": null,
   "metadata": {},
   "outputs": [
    {
     "name": "stdout",
     "output_type": "stream",
     "text": [
      "Fitting 5 folds for each of 54 candidates, totalling 270 fits\n"
     ]
    }
   ],
   "source": [
    "# Finding the Optimal Parameters for LogisticRegression\n",
    "from sklearn.linear_model import LogisticRegression\n",
    "from sklearn.model_selection import GridSearchCV\n",
    "from sklearn.metrics import classification_report\n",
    "\n",
    "# Parameter search range\n",
    "param_grid = {\n",
    "    'penalty': ['l1', 'l2'],\n",
    "    'C': [0.01, 0.1],  \n",
    "    'solver': ['lbfgs', 'liblinear'],  \n",
    "    'max_iter': [50, 100]  \n",
    "}\n",
    "\n",
    "lr = LogisticRegression()\n",
    "\n",
    "grid_search = GridSearchCV(estimator=lr, param_grid=param_grid, \n",
    "                           cv=5, scoring='accuracy', verbose=1, n_jobs=-1)\n",
    "\n",
    "grid_search.fit(X_train, y_train)\n",
    "\n",
    "print(\"Optimal parameters: \", grid_search.best_params_)\n",
    "print(\"Best CV Score:\", grid_search.best_score_)"
   ]
  },
  {
   "cell_type": "code",
   "execution_count": 5,
   "metadata": {},
   "outputs": [
    {
     "data": {
      "text/plain": [
       "LogisticRegression(C=0.01, random_state=42, solver='liblinear')"
      ]
     },
     "execution_count": 5,
     "metadata": {},
     "output_type": "execute_result"
    }
   ],
   "source": [
    "# logistic regression\n",
    "from sklearn.linear_model import LogisticRegression\n",
    "\n",
    "# Using an algorithm that penalizes imbalance In logistic regression, adjust class_weight=\"balanced\" so that the model gives a higher weight to class 1.\n",
    "# Define model\n",
    "best_params = {'penalty': 'l2', 'C': 0.01, 'solver': 'liblinear', 'max_iter': 100}\n",
    "lr_model = LogisticRegression(**best_params, random_state=42)\n",
    "lr_model.fit(X_train, y_train)"
   ]
  },
  {
   "cell_type": "markdown",
   "metadata": {},
   "source": [
    "**Random forest**"
   ]
  },
  {
   "cell_type": "markdown",
   "metadata": {},
   "source": [
    "Finding the best parameters: This method may take some time to run. You can choose to skip it and directly use the model training code below that already uses the best parameters."
   ]
  },
  {
   "cell_type": "code",
   "execution_count": 6,
   "metadata": {},
   "outputs": [
    {
     "name": "stdout",
     "output_type": "stream",
     "text": [
      "Fitting 5 folds for each of 8 candidates, totalling 40 fits\n",
      "Best parameters found:  {'max_depth': 20, 'min_samples_split': 10, 'n_estimators': 200}\n"
     ]
    }
   ],
   "source": [
    "# Finding the Optimal Parameters for Random forest\n",
    "from sklearn.ensemble import RandomForestClassifier\n",
    "from sklearn.model_selection import GridSearchCV\n",
    "\n",
    "# Parameter search range\n",
    "param_grid = {\n",
    "    'n_estimators': [100, 200],\n",
    "    'max_depth': [10, 20],\n",
    "    'min_samples_split': [2, 10]   \n",
    "}\n",
    "\n",
    "# Initialize the Random Forest Classifier\n",
    "rf_model = RandomForestClassifier(random_state=42)\n",
    "\n",
    "# Hyperparameter optimization using GridSearchCV\n",
    "grid_search = GridSearchCV(estimator=rf_model, param_grid=param_grid, cv=5, n_jobs=-1, verbose=2)\n",
    "\n",
    "# Fitting the model\n",
    "grid_search.fit(X_train, y_train)\n",
    "\n",
    "# Output the best parameters and scores\n",
    "print(\"Best parameters found: \", grid_search.best_params_)\n",
    "print(\"Best CV Score:\", grid_search.best_score_)"
   ]
  },
  {
   "cell_type": "code",
   "execution_count": 7,
   "metadata": {},
   "outputs": [
    {
     "data": {
      "text/plain": [
       "RandomForestClassifier(max_depth=20, min_samples_split=10, n_estimators=200,\n",
       "                       random_state=42)"
      ]
     },
     "execution_count": 7,
     "metadata": {},
     "output_type": "execute_result"
    }
   ],
   "source": [
    "# random forest\n",
    "from sklearn.ensemble import RandomForestClassifier\n",
    "best_params = {'n_estimators': 200, 'max_depth': 20, 'min_samples_split': 10}\n",
    "rf_model = RandomForestClassifier(**best_params, random_state=42)\n",
    "rf_model.fit(X_train, y_train)"
   ]
  },
  {
   "cell_type": "markdown",
   "metadata": {},
   "source": [
    "**XGBoost**"
   ]
  },
  {
   "cell_type": "markdown",
   "metadata": {},
   "source": [
    "Finding the best parameters: This method may take some time to run. You can choose to skip it and directly use the model training code below that already uses the best parameters."
   ]
  },
  {
   "cell_type": "code",
   "execution_count": null,
   "metadata": {},
   "outputs": [
    {
     "name": "stdout",
     "output_type": "stream",
     "text": [
      "Fitting 3 folds for each of 64 candidates, totalling 192 fits\n"
     ]
    }
   ],
   "source": [
    "# Finding the Optimal Parameters for XGBoost\n",
    "from sklearn.model_selection import train_test_split, GridSearchCV\n",
    "from xgboost import XGBClassifier\n",
    "# \n",
    "param_grid = {\n",
    "    \"max_depth\": [3, 9],\n",
    "    \"learning_rate\": [0.1, 0.2],\n",
    "    \"n_estimators\": [100, 500],\n",
    "    \"subsample\": [0.6, 1.0],\n",
    "    \"colsample_bytree\": [0.8, 1.0],\n",
    "    \"scale_pos_weight\": [1, 5]  # 用于不平衡数据\n",
    "}\n",
    "\n",
    "grid_search = GridSearchCV(\n",
    "    estimator=XGBClassifier(use_label_encoder=False, random_state=42, eval_metric=\"logloss\"),\n",
    "    param_grid=param_grid,\n",
    "    scoring=\"accuracy\",\n",
    "    cv=3,\n",
    "    verbose=2,\n",
    "    n_jobs=-1\n",
    ")\n",
    "\n",
    "grid_search.fit(X_train, y_train)\n",
    "\n",
    "# Print the best parameters and scores\n",
    "print(\"Best Parameters:\", grid_search.best_params_)\n",
    "print(\"Best CV Score:\", grid_search.best_score_)"
   ]
  },
  {
   "cell_type": "code",
   "execution_count": 7,
   "metadata": {},
   "outputs": [
    {
     "name": "stdout",
     "output_type": "stream",
     "text": [
      "[21:36:52] WARNING: C:/Users/Administrator/workspace/xgboost-win64_release_1.5.1/src/learner.cc:1115: Starting in XGBoost 1.3.0, the default evaluation metric used with the objective 'binary:logistic' was changed from 'error' to 'logloss'. Explicitly set eval_metric if you'd like to restore the old behavior.\n"
     ]
    },
    {
     "data": {
      "text/plain": [
       "XGBClassifier(base_score=0.5, booster='gbtree', colsample_bylevel=1,\n",
       "              colsample_bynode=1, colsample_bytree=0.8,\n",
       "              enable_categorical=False, gamma=0, gpu_id=-1,\n",
       "              importance_type=None, interaction_constraints='',\n",
       "              learning_rate=0.2, max_delta_step=0, max_depth=3,\n",
       "              min_child_weight=1, missing=nan, monotone_constraints='()',\n",
       "              n_estimators=100, n_jobs=8, num_parallel_tree=1, predictor='auto',\n",
       "              random_state=42, reg_alpha=0, reg_lambda=1, scale_pos_weight=1,\n",
       "              subsample=0.6, tree_method='exact', use_label_encoder=False,\n",
       "              validate_parameters=1, verbosity=None)"
      ]
     },
     "execution_count": 7,
     "metadata": {},
     "output_type": "execute_result"
    }
   ],
   "source": [
    "# XGBoost is one of the implementations of gradient boosting trees and is suitable for complex nonlinear relationships between features.\n",
    "from xgboost import XGBClassifier\n",
    "\n",
    "# XGBoost model\n",
    "best_params = {'colsample_bytree': 0.8, 'learning_rate': 0.2, 'max_depth': 3, 'n_estimators': 100, 'scale_pos_weight': 1, 'subsample': 0.6}\n",
    "xgb_model = XGBClassifier(**best_params, random_state=42, use_label_encoder=False)\n",
    "xgb_model.fit(X_train, y_train)"
   ]
  },
  {
   "cell_type": "markdown",
   "metadata": {},
   "source": [
    "**LightGBM**"
   ]
  },
  {
   "cell_type": "markdown",
   "metadata": {},
   "source": [
    "Finding the best parameters: This method may take some time to run. You can choose to skip it and directly use the model training code below that already uses the best parameters."
   ]
  },
  {
   "cell_type": "code",
   "execution_count": 12,
   "metadata": {},
   "outputs": [
    {
     "name": "stdout",
     "output_type": "stream",
     "text": [
      "Fitting 5 folds for each of 288 candidates, totalling 1440 fits\n",
      "[LightGBM] [Info] Number of positive: 19878, number of negative: 324060\n",
      "[LightGBM] [Info] Auto-choosing row-wise multi-threading, the overhead of testing was 0.019664 seconds.\n",
      "You can set `force_row_wise=true` to remove the overhead.\n",
      "And if memory is not enough, you can set `force_col_wise=true`.\n",
      "[LightGBM] [Info] Total Bins 734\n",
      "[LightGBM] [Info] Number of data points in the train set: 343938, number of used features: 41\n",
      "[LightGBM] [Info] [binary:BoostFromScore]: pavg=0.057795 -> initscore=-2.791315\n",
      "[LightGBM] [Info] Start training from score -2.791315\n",
      "Best Parameters: {'colsample_bytree': 0.8, 'learning_rate': 0.1, 'max_depth': 10, 'min_child_samples': 50, 'n_estimators': 100, 'num_leaves': 70, 'subsample': 0.8}\n",
      "Best CV Score: 0.9453273546467106\n"
     ]
    }
   ],
   "source": [
    "# Finding the Optimal Parameters for LightGBM\n",
    "import lightgbm as lgb\n",
    "from sklearn.model_selection import GridSearchCV\n",
    "\n",
    "X_train.columns = X_train.columns.str.replace(r\"[^\\w]\", \"_\", regex=True)\n",
    "X_val.columns = X_val.columns.str.replace(r\"[^\\w]\", \"_\", regex=True)\n",
    "\n",
    "param_grid = {\n",
    "    'n_estimators': [100, 200],          \n",
    "    'max_depth': [6, 10],                 \n",
    "    'learning_rate': [0.01, 0.1, 0.2],        \n",
    "    'num_leaves': [50, 70],               \n",
    "    'min_child_samples': [20, 50, 100],       \n",
    "    'subsample': [0.8, 1.0],                  \n",
    "    'colsample_bytree': [0.8, 1.0]           \n",
    "}\n",
    "\n",
    "lgb_model = lgb.LGBMClassifier(random_state=42)\n",
    "\n",
    "grid_search = GridSearchCV(estimator=lgb_model, param_grid=param_grid, cv=5, scoring='accuracy', n_jobs=-1, verbose=2)\n",
    "\n",
    "grid_search.fit(X_train, y_train)\n",
    "\n",
    "# Print the best parameters and scores\n",
    "print(\"Best Parameters:\", grid_search.best_params_)\n",
    "print(\"Best CV Score:\", grid_search.best_score_)"
   ]
  },
  {
   "cell_type": "code",
   "execution_count": 13,
   "metadata": {},
   "outputs": [
    {
     "name": "stdout",
     "output_type": "stream",
     "text": [
      "[LightGBM] [Info] Number of positive: 19878, number of negative: 324060\n",
      "[LightGBM] [Info] Auto-choosing row-wise multi-threading, the overhead of testing was 0.026601 seconds.\n",
      "You can set `force_row_wise=true` to remove the overhead.\n",
      "And if memory is not enough, you can set `force_col_wise=true`.\n",
      "[LightGBM] [Info] Total Bins 734\n",
      "[LightGBM] [Info] Number of data points in the train set: 343938, number of used features: 41\n",
      "[LightGBM] [Info] [binary:BoostFromScore]: pavg=0.057795 -> initscore=-2.791315\n",
      "[LightGBM] [Info] Start training from score -2.791315\n"
     ]
    },
    {
     "data": {
      "text/plain": [
       "LGBMClassifier(colsample_bytree=0.8, max_depth=10, min_child_samples=50,\n",
       "               num_leaves=70, random_state=42, subsample=0.8)"
      ]
     },
     "execution_count": 13,
     "metadata": {},
     "output_type": "execute_result"
    }
   ],
   "source": [
    "# LightGBM is another efficient implementation of gradient boosted trees suitable for large-scale data.\n",
    "import lightgbm as lgb\n",
    "X_train.columns = X_train.columns.str.replace(r\"[^\\w]\", \"_\", regex=True)  # Replace non-alphanumeric characters with underscores\n",
    "X_val.columns = X_val.columns.str.replace(r\"[^\\w]\", \"_\", regex=True)\n",
    "\n",
    "# Defining the LightGBM model\n",
    "best_params = {'n_estimators': 100, 'max_depth': 10, 'learning_rate': 0.1, 'num_leaves': 70, 'min_child_samples': 50, 'subsample': 0.8, 'colsample_bytree':0.8}\n",
    "lgb_model = lgb.LGBMClassifier(**best_params, random_state=42)\n",
    "lgb_model.fit(X_train, y_train)"
   ]
  },
  {
   "cell_type": "markdown",
   "metadata": {},
   "source": [
    "### Model Evaluation\n",
    "*Author: XIAO WANJUN*"
   ]
  },
  {
   "cell_type": "code",
   "execution_count": 14,
   "metadata": {},
   "outputs": [
    {
     "name": "stdout",
     "output_type": "stream",
     "text": [
      "Logistic Regression Classification Report:\n",
      "\n",
      "              precision    recall  f1-score   support\n",
      "\n",
      "           0       0.95      0.99      0.97     40550\n",
      "           1       0.55      0.21      0.30      2442\n",
      "\n",
      "    accuracy                           0.95     42992\n",
      "   macro avg       0.75      0.60      0.64     42992\n",
      "weighted avg       0.93      0.95      0.93     42992\n",
      "\n",
      "Logistic Regression AUC: 0.879262954805495\n",
      "\n",
      "\n",
      "Random Forest Classification Report:\n",
      "\n",
      "              precision    recall  f1-score   support\n",
      "\n",
      "           0       0.95      0.99      0.97     40550\n",
      "           1       0.58      0.15      0.24      2442\n",
      "\n",
      "    accuracy                           0.95     42992\n",
      "   macro avg       0.76      0.57      0.61     42992\n",
      "weighted avg       0.93      0.95      0.93     42992\n",
      "\n",
      "Random Forest AUC: 0.8766606024250907\n",
      "\n",
      "XGBoost Classification Report:\n",
      "\n",
      "              precision    recall  f1-score   support\n",
      "\n",
      "           0       0.95      0.99      0.97     40550\n",
      "           1       0.55      0.21      0.31      2442\n",
      "\n",
      "    accuracy                           0.95     42992\n",
      "   macro avg       0.75      0.60      0.64     42992\n",
      "weighted avg       0.93      0.95      0.93     42992\n",
      "\n",
      "XGBoost AUC: 0.8824877983016084\n",
      "\n",
      "\n",
      "LightGBM Classification Report:\n",
      "\n",
      "              precision    recall  f1-score   support\n",
      "\n",
      "           0       0.95      0.99      0.97     40550\n",
      "           1       0.56      0.21      0.31      2442\n",
      "\n",
      "    accuracy                           0.95     42992\n",
      "   macro avg       0.76      0.60      0.64     42992\n",
      "weighted avg       0.93      0.95      0.93     42992\n",
      "\n",
      "LightGBM AUC: 0.8812964752668823\n"
     ]
    }
   ],
   "source": [
    "from sklearn.metrics import classification_report, roc_auc_score  \n",
    "\n",
    "# Logistic regression model evaluation \n",
    "# Get the probability of the positive class\n",
    "y_pred_lr = lr_model.predict(X_val)   \n",
    "print(\"Logistic Regression Classification Report:\\n\")  \n",
    "print(classification_report(y_val, y_pred_lr))  \n",
    "print(\"Logistic Regression AUC:\", roc_auc_score(y_val, lr_model.predict_proba(X_val)[:, 1]))  \n",
    "\n",
    "# Random Forest Model Evaluation\n",
    "y_pred_rf = rf_model.predict(X_val) \n",
    "print()\n",
    "print(\"\\nRandom Forest Classification Report:\\n\")  \n",
    "print(classification_report(y_val, y_pred_rf))  \n",
    "# Calculate AUC\n",
    "print(\"Random Forest AUC:\", roc_auc_score(y_val, rf_model.predict_proba(X_val)[:, 1]))\n",
    "\n",
    "# XGBoost Model Evaluation\n",
    "y_pred_xgb = xgb_model.predict(X_val)  \n",
    "print()\n",
    "print(\"XGBoost Classification Report:\\n\")  \n",
    "print(classification_report(y_val, y_pred_xgb))  \n",
    "print(\"XGBoost AUC:\", roc_auc_score(y_val, xgb_model.predict_proba(X_val)[:, 1]))  \n",
    "\n",
    "# LightGBM model evaluation \n",
    "y_pred_lgb = lgb_model.predict(X_val) \n",
    "print()\n",
    "print(\"\\nLightGBM Classification Report:\\n\")  \n",
    "print(classification_report(y_val, y_pred_lgb))  \n",
    "print(\"LightGBM AUC:\", roc_auc_score(y_val, lgb_model.predict_proba(X_val)[:, 1]))"
   ]
  },
  {
   "cell_type": "code",
   "execution_count": 15,
   "metadata": {},
   "outputs": [
    {
     "data": {
      "image/png": "[encoded data removed]",
      "text/plain": [
       "<Figure size 1440x720 with 12 Axes>"
      ]
     },
     "metadata": {
      "needs_background": "light"
     },
     "output_type": "display_data"
    }
   ],
   "source": [
    "# Confusion matrix and ROC curve visualization\n",
    "import matplotlib.pyplot as plt  \n",
    "from sklearn.metrics import confusion_matrix, ConfusionMatrixDisplay, roc_curve, roc_auc_score  \n",
    "\n",
    "# y_val The true labels of the validation set\n",
    "# Prediction results\n",
    "y_pred_lr = lr_model.predict(X_val)  \n",
    "y_pred_rf = rf_model.predict(X_val)  \n",
    "y_pred_xgb = xgb_model.predict(X_val)  \n",
    "y_pred_lgb = lgb_model.predict(X_val)  \n",
    "\n",
    "# Compute confusion matrix and AUC \n",
    "models = {  \n",
    "    \"Logistic Regression\": y_pred_lr,  \n",
    "    \"Random Forest\": y_pred_rf,  \n",
    "    \"XGBoost\": y_pred_xgb,  \n",
    "    \"LightGBM\": y_pred_lgb  \n",
    "}  \n",
    "\n",
    "# Create a graph \n",
    "fig, axes = plt.subplots(2, 4, figsize=(20, 10))  \n",
    "\n",
    "# Confusion Matrix Visualization\n",
    "for i, (model_name, y_pred) in enumerate(models.items()):  \n",
    "    cm = confusion_matrix(y_val, y_pred)  \n",
    "    disp = ConfusionMatrixDisplay(confusion_matrix=cm, display_labels=[0, 1])  \n",
    "    disp.plot(ax=axes[0, i], cmap=plt.cm.Blues)  \n",
    "    axes[0, i].set_title(f\"{model_name} Confusion Matrix\")  \n",
    "\n",
    "# ROC Curve Visualization \n",
    "for i, (model_name, y_pred) in enumerate(models.items()):  \n",
    "    fpr, tpr, _ = roc_curve(y_val, y_pred)  \n",
    "    auc = roc_auc_score(y_val, y_pred)  \n",
    "    axes[1, i].plot(fpr, tpr, label=f'AUC = {auc:.2f}')  \n",
    "    axes[1, i].plot([0, 1], [0, 1], 'k--')  \n",
    "    axes[1, i].set_xlabel('False Positive Rate')  \n",
    "    axes[1, i].set_ylabel('True Positive Rate')  \n",
    "    axes[1, i].set_title(f\"{model_name} ROC Curve\")  \n",
    "    axes[1, i].legend()  \n",
    "\n",
    "plt.tight_layout()  \n",
    "plt.show()"
   ]
  },
  {
   "cell_type": "code",
   "execution_count": null,
   "metadata": {},
   "outputs": [],
   "source": [
    "# SMOTE\n",
    "from imblearn.over_sampling import SMOTE  \n",
    "\n",
    "smote = SMOTE()  \n",
    "X_resampled, y_resampled = smote.fit_resample(X_train, y_train)"
   ]
  },
  {
   "cell_type": "code",
   "execution_count": null,
   "metadata": {},
   "outputs": [],
   "source": [
    "# Cross Validation\n",
    "from sklearn.model_selection import cross_val_score  \n",
    "\n",
    "scores = cross_val_score(best_model, X_resampled, y_resampled, cv=5)  \n",
    "print(\"Cross-validation scores:\", scores)  \n",
    "print(\"Mean CV score:\", scores.mean())"
   ]
  },
  {
   "cell_type": "markdown",
   "metadata": {},
   "source": [
    "### Risk prediction and interventions\n",
    "*Author：MENG HUIDAN*"
   ]
  },
  {
   "cell_type": "code",
   "execution_count": 8,
   "metadata": {},
   "outputs": [
    {
     "name": "stdout",
     "output_type": "stream",
     "text": [
      "The model has been saved as xgb_42features_model.pkl\n"
     ]
    },
    {
     "data": {
      "text/plain": [
       "['xgb_42features_columns.pkl']"
      ]
     },
     "execution_count": 8,
     "metadata": {},
     "output_type": "execute_result"
    }
   ],
   "source": [
    "import joblib\n",
    "feature_columns = X_train.columns.tolist()\n",
    "\n",
    "joblib.dump(xgb_model, \"xgb_42features_model.pkl\")  # 保存为 .pkl 文件\n",
    "print(\"The model has been saved as xgb_42features_model.pkl\")\n",
    "joblib.dump(feature_columns, \"xgb_42features_columns.pkl\")"
   ]
  },
  {
   "cell_type": "markdown",
   "metadata": {},
   "source": [
    "**Risk prediction**"
   ]
  },
  {
   "cell_type": "code",
   "execution_count": 9,
   "metadata": {},
   "outputs": [
    {
     "name": "stdout",
     "output_type": "stream",
     "text": [
      "heart disease risk probability: 66.59 %\n",
      "Prediction category: high risk\n"
     ]
    }
   ],
   "source": [
    "# Load model\n",
    "model_res = joblib.load(\"xgb_42features_model.pkl\")\n",
    "feature_columns = joblib.load(\"xgb_42features_columns.pkl\")\n",
    "\n",
    "# Load user input sample data (please obtain user input according to the actual situation)\n",
    "user_input = {\n",
    "    \"PhysicalHealthDays\":5,\n",
    "    \"MentalHealthDays\": 10,\n",
    "    \"BMI\": 23,\n",
    "    \"HeightInMeters\": 1.55,\n",
    "    \"WeightInKilograms\": 70.68,\n",
    "    \"GeneralHealth\": \"Poor\",       \n",
    "    \"SmokerStatus\": \"Yes\",         \n",
    "    \"AgeCategory\": \"Age 30 to 34\",   \n",
    "    \"RemovedTeeth\": \"None of them\",   \n",
    "    \"HadStroke\": \"Yes\", \n",
    "    \"PneumoVaxEver\": \"No\", \n",
    "    \"HadArthritis\": \"No\", \n",
    "    \"HadKidneyDisease\": \"Yes\", \n",
    "    \"DeafOrHardOfHearing\": \"Yes\", \n",
    "    \"HadHeartAttack\": \"No\", \n",
    "    \"HadAngina\": \"Yes\", \n",
    "    \"ChestScan\": \"No\", \n",
    "    \"DifficultyWalking\": \"Yes\", \n",
    "    \"HadDiabetes\": \"Yes\", \n",
    "    \"HadCOPD\": \"Yes\"\n",
    "}\n",
    "# Data preprocessing function\n",
    "def preprocess_input(user_input):\n",
    "    user_input_scaled = scaler.fit_transform([[user_input[col] for col in numerical_columns]])[0]\n",
    "    numerical_input = dict(zip(numerical_columns, user_input_scaled))\n",
    "\n",
    "    one_hot_encoded_input = {}\n",
    "    for value in general_health_values:\n",
    "        one_hot_encoded_input[f\"GeneralHealth_{value}\"] = 1 if user_input[\"GeneralHealth\"] == value else 0\n",
    "    for value in smoker_status_values:\n",
    "        one_hot_encoded_input[f\"SmokerStatus_{value}\"] = 1 if user_input[\"SmokerStatus\"] == value else 0\n",
    "    for value in age_category_values:\n",
    "        one_hot_encoded_input[f\"AgeCategory_{value}\"] = 1 if user_input[\"AgeCategory\"] == value else 0\n",
    "    for value in removed_teeth_values:\n",
    "        one_hot_encoded_input[f\"RemovedTeeth_{value}\"] = 1 if user_input[\"RemovedTeeth\"] == value else 0\n",
    "\n",
    "    def binary_encoder(value):\n",
    "        return 1 if value == \"Yes\" else 0\n",
    "\n",
    "    binary_encoded_input = {col: binary_encoder(user_input[col]) for col in binary_columns}\n",
    "\n",
    "    all_features = {**numerical_input, **one_hot_encoded_input, **binary_encoded_input}\n",
    "    input_features = [all_features[col] if col in all_features else 0 for col in feature_columns]\n",
    "    return np.array(input_features).reshape(1, -1)\n",
    "\n",
    "# Convert to model input format (make sure the column order is consistent with training)\n",
    "input_features = input_features = preprocess_input(user_input)\n",
    "\n",
    "# Convert to NumPy array and predict\n",
    "input_features = np.array(input_features).reshape(1, -1)\n",
    "risk_probability = model_res.predict_proba(input_features)[:, 1][0]  # Probability of getting sick\n",
    "risk_class = model_res.predict(input_features)[0]  # Classification results\n",
    "\n",
    "# Output prediction results\n",
    "print(\"heart disease risk probability:\", round(risk_probability * 100, 2), \"%\")\n",
    "print(\"Prediction category:\", \"high risk\" if risk_class == 1 else \"low risk\")"
   ]
  },
  {
   "cell_type": "markdown",
   "metadata": {},
   "source": [
    "**Interventions**"
   ]
  },
  {
   "cell_type": "code",
   "execution_count": 11,
   "metadata": {},
   "outputs": [
    {
     "name": "stdout",
     "output_type": "stream",
     "text": [
      "Initial heart disease risk probability: 66.59 %\n",
      "Initial prediction category: high risk\n",
      "\n",
      "Interventions: Quit smoking\n",
      "Probability of heart disease risk after intervention: 66.59 %\n",
      ": high risk\n",
      "\n",
      "Interventions: Lose weight\n",
      "Probability of heart disease risk after intervention: 66.59 %\n",
      ": high risk\n",
      "\n",
      "Interventions: Improve mental health\n",
      "Probability of heart disease risk after intervention: 66.59 %\n",
      ": high risk\n",
      "\n",
      "Interventions: Reduce physical health problems\n",
      "Probability of heart disease risk after intervention: 66.59 %\n",
      ": high risk\n",
      "\n",
      "Interventions: Increase physical activity\n",
      "Probability of heart disease risk after intervention: 68.64 %\n",
      ": high risk\n",
      "\n",
      "Interventions: Improve general health\n",
      "Probability of heart disease risk after intervention: 50.39 %\n",
      ": high risk\n",
      "\n",
      "Interventions: Improve diet and oral health\n",
      "Probability of heart disease risk after intervention: 66.59 %\n",
      ": high risk\n",
      "\n",
      "Interventions: Manage diabetes effectively\n",
      "Probability of heart disease risk after intervention: 55.51 %\n",
      ": high risk\n",
      "\n",
      "Interventions: Reduce heart-related risk factors\n",
      "Probability of heart disease risk after intervention: 5.77 %\n",
      ": low risk\n",
      "\n",
      "Interventions: Improve respiratory health\n",
      "Probability of heart disease risk after intervention: 59.18 %\n",
      ": high risk\n",
      "\n",
      "Interventions: Enhance kidney health\n",
      "Probability of heart disease risk after intervention: 66.29 %\n",
      ": high risk\n",
      "\n",
      "Interventions: Address arthritis issues\n",
      "Probability of heart disease risk after intervention: 66.59 %\n",
      ": high risk\n",
      "\n",
      "Interventions: Assist hearing health\n",
      "Probability of heart disease risk after intervention: 57.31 %\n",
      ": high risk\n",
      "\n",
      "Interventions: Encourage vaccination\n",
      "Probability of heart disease risk after intervention: 69.57 %\n",
      ": high risk\n",
      "\n",
      "Interventions: Encourage regular health check-ups\n",
      "Probability of heart disease risk after intervention: 66.59 %\n",
      ": high risk\n"
     ]
    }
   ],
   "source": [
    "# prediction function\n",
    "def predict_risk(user_input):\n",
    "    input_features = preprocess_input(user_input)\n",
    "    risk_probability = xgb_model.predict_proba(input_features)[:, 1][0]  \n",
    "    risk_class = xgb_model.predict(input_features)[0]  \n",
    "    return round(risk_probability * 100, 2), \"high risk\" if risk_class == 1 else \"low risk\"\n",
    "# Intervention simulation\n",
    "interventions = {\n",
    "    \"Quit smoking\": lambda input_data: {**input_data, \"SmokerStatus\": \"No\"},\n",
    "    \"Lose weight\": lambda input_data: {**input_data, \"BMI\": max(18.5, input_data[\"BMI\"] - 5)},\n",
    "    \"Improve mental health\": lambda input_data: {**input_data, \"MentalHealthDays\": max(0, input_data[\"MentalHealthDays\"] - 5)},\n",
    "    \"Reduce physical health problems\": lambda input_data: {**input_data, \"PhysicalHealthDays\": max(0, input_data[\"PhysicalHealthDays\"] - 5)},\n",
    "    \"Increase physical activity\": lambda input_data: {**input_data, \"DifficultyWalking\": \"No\"},\n",
    "    \"Improve general health\": lambda input_data: {**input_data, \"GeneralHealth\": \"Excellent\"},\n",
    "    \"Improve diet and oral health\": lambda input_data: {**input_data, \"RemovedTeeth\": \"None of them\"},\n",
    "    \"Manage diabetes effectively\": lambda input_data: {**input_data, \"HadDiabetes\": \"No\"},\n",
    "    \"Reduce heart-related risk factors\": lambda input_data: {\n",
    "        **input_data,\n",
    "        \"HadStroke\": \"No\",\n",
    "        \"HadHeartAttack\": \"No\",\n",
    "        \"HadAngina\": \"No\",\n",
    "        \"ChestScan\": \"No\",\n",
    "    },\n",
    "    \"Improve respiratory health\": lambda input_data: {**input_data, \"HadCOPD\": \"No\"},\n",
    "    \"Enhance kidney health\": lambda input_data: {**input_data, \"HadKidneyDisease\": \"No\"},\n",
    "    \"Address arthritis issues\": lambda input_data: {**input_data, \"HadArthritis\": \"No\"},\n",
    "    \"Assist hearing health\": lambda input_data: {**input_data, \"DeafOrHardOfHearing\": \"No\"},\n",
    "    \"Encourage vaccination\": lambda input_data: {**input_data, \"PneumoVaxEver\": \"Yes\"},\n",
    "    \"Encourage regular health check-ups\": lambda input_data: {**input_data, \"ChestScan\": \"No\"},\n",
    "}\n",
    "\n",
    "\n",
    "# initial risks\n",
    "initial_probability, initial_class = predict_risk(user_input)\n",
    "print(\"Initial heart disease risk probability:\", initial_probability, \"%\")\n",
    "print(\"Initial prediction category:\", initial_class)\n",
    "\n",
    "# Apply interventions and predict effects\n",
    "for name, intervention in interventions.items():\n",
    "    modified_input = intervention(user_input)\n",
    "    new_probability, new_class = predict_risk(modified_input)\n",
    "    print(f\"\\nInterventions: {name}\")\n",
    "    print(\"Probability of heart disease risk after intervention:\", new_probability, \"%\")\n",
    "    print(\":\", new_class)"
   ]
  },
  {
   "cell_type": "markdown",
   "metadata": {},
   "source": [
    "### Deployment\n",
    "*Author: *"
   ]
  },
  {
   "cell_type": "code",
   "execution_count": null,
   "metadata": {},
   "outputs": [],
   "source": [
    "#add-scaler.pkl\n",
    "import joblib\n",
    "joblib.dump(scaler, \"scaler.pkl\")"
   ]
  },
  {
   "cell_type": "code",
   "execution_count": null,
   "metadata": {},
   "outputs": [],
   "source": [
    "!pip install streamlit -q"
   ]
  },
  {
   "cell_type": "code",
   "execution_count": null,
   "metadata": {},
   "outputs": [],
   "source": [
    "#app.py\n",
    "%%writefile app.py\n",
    "import streamlit as st\n",
    "import pandas as pd\n",
    "import numpy as np\n",
    "import joblib\n",
    "import os\n",
    "from sklearn.preprocessing import StandardScaler\n",
    "\n",
    "# Configure Streamlit page\n",
    "st.set_page_config(\n",
    "    page_title=\"Heart Disease Risk Prediction\",\n",
    "    page_icon=\"❤️\",\n",
    "    layout=\"wide\"\n",
    ")\n",
    "\n",
    "# Add error handling for model loading\n",
    "@st.cache_resource\n",
    "def load_model_files():\n",
    "    try:\n",
    "        model_path = \"logistic_regression_model.pkl\"\n",
    "        features_path = \"feature_columns.pkl\"\n",
    "        scaler_path = \"scaler.pkl\"\n",
    "\n",
    "        if not all(os.path.exists(path) for path in [model_path, features_path, scaler_path]):\n",
    "            raise FileNotFoundError(\"One or more model files are missing\")\n",
    "\n",
    "        lr_model = joblib.load(model_path)\n",
    "        feature_columns = joblib.load(features_path)\n",
    "        scaler = joblib.load(scaler_path)\n",
    "        return lr_model, feature_columns, scaler\n",
    "    except Exception as e:\n",
    "        st.error(f\"Error loading model files: {str(e)}\")\n",
    "        return None, None, None\n",
    "\n",
    "# Load the models\n",
    "lr_model, feature_columns, scaler = load_model_files()\n",
    "\n",
    "# Define constants with reordered age categories\n",
    "CATEGORICAL_MAPPINGS = {\n",
    "    \"GeneralHealth\": [\"Poor\", \"Fair\", \"Good\", \"VeryGood\", \"Excellent\"],\n",
    "    \"SmokerStatus\": [\"Current smoker - now smokes every day\", \"Current smoker - now smokes some days\",\n",
    "                     \"Former smoker\", \"Never smoked\"],\n",
    "    \"AgeCategory\": [\"Age 18 to 24\", \"Age 25 to 29\", \"Age 30 to 34\", \"Age 35 to 39\",\n",
    "                    \"Age 40 to 44\", \"Age 50 to 54\", \"Age 55 to 59\", \"Age 60 to 64\",\n",
    "                    \"Age 65 to 69\", \"Age 70 to 74\", \"Age 75 to 79\", \"Age 80 or older\"],\n",
    "    \"RemovedTeeth\": [\"None of them\", \"1 to 5\", \"6 or more, but not all\", \"All\"]\n",
    "}\n",
    "\n",
    "BINARY_COLUMNS = [\n",
    "    \"HadStroke\", \"PneumoVaxEver\", \"HadArthritis\", \"HadKidneyDisease\",\n",
    "    \"DeafOrHardOfHearing\", \"HadAngina\", \"ChestScan\",\n",
    "    \"DifficultyWalking\", \"HadDiabetes\", \"HadCOPD\"\n",
    "]\n",
    "\n",
    "NUMERICAL_COLUMNS = [\n",
    "    \"PhysicalHealthDays\", \"MentalHealthDays\", \"BMI\",\n",
    "    \"HeightInMeters\", \"WeightInKilograms\"\n",
    "]\n",
    "\n",
    "# Previous preprocessing functions remain the same\n",
    "def preprocess_input(user_input, feature_columns, scaler):\n",
    "    try:\n",
    "        input_df = pd.DataFrame([user_input])\n",
    "        numerical_data = input_df[NUMERICAL_COLUMNS]\n",
    "        scaled_numerical = scaler.transform(numerical_data)\n",
    "        processed_data = pd.DataFrame(0, index=[0], columns=feature_columns)\n",
    "\n",
    "        for idx, col in enumerate(NUMERICAL_COLUMNS):\n",
    "            processed_data[col] = scaled_numerical[0][idx]\n",
    "\n",
    "        for category, values in CATEGORICAL_MAPPINGS.items():\n",
    "            selected_value = user_input[category]\n",
    "            for value in values:\n",
    "                col_name = f\"{category}_{value}\"\n",
    "                if col_name in feature_columns:\n",
    "                    processed_data[col_name] = 1 if selected_value == value else 0\n",
    "\n",
    "        for col in BINARY_COLUMNS:\n",
    "            if col in feature_columns:\n",
    "                processed_data[col] = 1 if user_input[col] == \"Yes\" else 0\n",
    "\n",
    "        return processed_data\n",
    "    except Exception as e:\n",
    "        st.error(f\"Error in preprocessing: {str(e)}\")\n",
    "        return None\n",
    "\n",
    "def calculate_risk(input_data):\n",
    "    processed_input = preprocess_input(input_data, feature_columns, scaler)\n",
    "    if processed_input is not None:\n",
    "        risk_probability = lr_model.predict_proba(processed_input)[:, 1][0]\n",
    "        risk_class = lr_model.predict(processed_input)[0]\n",
    "        return risk_probability, risk_class\n",
    "    return None, None\n",
    "\n",
    "def display_risk_results(risk_probability, risk_class):\n",
    "    res_col1, res_col2 = st.columns(2)\n",
    "\n",
    "    res_col1.metric(\n",
    "        label=\"Risk Probability\",\n",
    "        value=f\"{risk_probability * 100:.1f}%\"\n",
    "    )\n",
    "\n",
    "    risk_status = \"High Risk\" if risk_class == 1 else \"Low Risk\"\n",
    "    res_col2.metric(\n",
    "        label=\"Risk Category\",\n",
    "        value=risk_status,\n",
    "        delta=\"Seek medical advice\" if risk_class == 1 else \"Monitor health\"\n",
    "    )\n",
    "\n",
    "    if risk_probability < 0.3:\n",
    "        st.success(\"Low risk level detected. Continue maintaining healthy habits.\")\n",
    "    elif risk_probability < 0.7:\n",
    "        st.warning(\"Moderate risk level detected. Consider consulting a healthcare provider.\")\n",
    "    else:\n",
    "        st.error(\"High risk level detected. Please consult a healthcare provider soon.\")\n",
    "\n",
    "def main():\n",
    "    st.title(\"❤️ Heart Disease Risk Prediction\")\n",
    "    st.write(\"Enter patient information to predict heart disease risk\")\n",
    "\n",
    "    if any(x is None for x in [lr_model, feature_columns, scaler]):\n",
    "        st.error(\"Error: Model files could not be loaded. Please check if all required files are present.\")\n",
    "        return\n",
    "\n",
    "    tab1, tab2 = st.tabs([\"Risk Prediction\", \"Intervention Simulation\"])\n",
    "\n",
    "    with tab1:\n",
    "        col1, col2 = st.columns(2)\n",
    "\n",
    "        with col1:\n",
    "            st.subheader(\"Health Metrics\")\n",
    "            user_input = {}\n",
    "\n",
    "            user_input[\"PhysicalHealthDays\"] = st.slider(\n",
    "                \"Physical Health Days (Days not feeling well)\",\n",
    "                min_value=0, max_value=30, value=5,\n",
    "                help=\"Number of days physical health was not good in the past 30 days\"\n",
    "            )\n",
    "            user_input[\"MentalHealthDays\"] = st.slider(\n",
    "                \"Mental Health Days (Days not feeling well)\",\n",
    "                min_value=0, max_value=30, value=5,\n",
    "                help=\"Number of days mental health was not good in the past 30 days\"\n",
    "            )\n",
    "\n",
    "            height = st.number_input(\"Height (meters)\", min_value=1.0, max_value=2.5, value=1.70)\n",
    "            weight = st.number_input(\"Weight (kg)\", min_value=30.0, max_value=200.0, value=70.0)\n",
    "            bmi = weight / (height ** 2)\n",
    "            st.info(f\"Calculated BMI: {bmi:.1f}\")\n",
    "\n",
    "            user_input[\"HeightInMeters\"] = height\n",
    "            user_input[\"WeightInKilograms\"] = weight\n",
    "            user_input[\"BMI\"] = bmi\n",
    "\n",
    "        with col2:\n",
    "            st.subheader(\"Health Conditions\")\n",
    "            for category, values in CATEGORICAL_MAPPINGS.items():\n",
    "                user_input[category] = st.selectbox(\n",
    "                    category.replace(\"Category\", \"\").replace(\"Status\", \"\"),\n",
    "                    values,\n",
    "                    key=f\"pred_{category}\"\n",
    "                )\n",
    "\n",
    "            for col in BINARY_COLUMNS:\n",
    "                display_name = col.replace(\"Had\", \"Has \").replace(\"Or\", \" or \")\n",
    "                user_input[col] = st.selectbox(\n",
    "                    display_name,\n",
    "                    [\"No\", \"Yes\"],\n",
    "                    key=f\"pred_{col}\"\n",
    "                )\n",
    "\n",
    "        if st.button(\"Predict Risk\", type=\"primary\", key=\"predict_button\"):\n",
    "            with st.spinner(\"Calculating risk...\"):\n",
    "                risk_probability, risk_class = calculate_risk(user_input)\n",
    "                if risk_probability is not None:\n",
    "                    st.header(\"Prediction Results\")\n",
    "                    display_risk_results(risk_probability, risk_class)\n",
    "                    st.session_state['baseline_risk'] = risk_probability\n",
    "                    st.session_state['user_input'] = user_input.copy()\n",
    "\n",
    "    with tab2:\n",
    "        st.subheader(\"Intervention Simulation\")\n",
    "        st.write(\"Explore how lifestyle changes might affect your heart disease risk\")\n",
    "\n",
    "        if 'baseline_risk' not in st.session_state:\n",
    "            st.warning(\"Please complete a risk prediction first before simulating interventions.\")\n",
    "            return\n",
    "\n",
    "        modified_input = st.session_state['user_input'].copy()\n",
    "\n",
    "        # Create three columns for more organized intervention options\n",
    "        sim_col1, sim_col2, sim_col3 = st.columns(3)\n",
    "\n",
    "        with sim_col1:\n",
    "            st.markdown(\"#### Physical Health Improvements\")\n",
    "\n",
    "            # BMI and weight management\n",
    "            target_bmi = st.slider(\n",
    "                \"Target BMI\",\n",
    "                min_value=18.5,\n",
    "                max_value=35.0,\n",
    "                value=float(modified_input[\"BMI\"]),\n",
    "                step=0.5,\n",
    "                help=\"Healthy BMI range is 18.5-24.9\",\n",
    "                key=\"sim_bmi\"\n",
    "            )\n",
    "            modified_input[\"BMI\"] = target_bmi\n",
    "\n",
    "            # Physical health days improvement\n",
    "            st.info(\"Physical Health Days: Days NOT feeling well\")\n",
    "            modified_input[\"PhysicalHealthDays\"] = st.slider(\n",
    "                \"Target Physical Health Days\",\n",
    "                min_value=0,\n",
    "                max_value=30,\n",
    "                value=min(modified_input[\"PhysicalHealthDays\"], 10),\n",
    "                help=\"Reduce days of physical health issues\",\n",
    "                key=\"sim_physical\"\n",
    "            )\n",
    "\n",
    "        with sim_col2:\n",
    "            st.markdown(\"#### Mental & Behavioral Health\")\n",
    "\n",
    "            # Mental health improvements\n",
    "            st.info(\"Mental Health Days: Days NOT feeling well\")\n",
    "            modified_input[\"MentalHealthDays\"] = st.slider(\n",
    "                \"Target Mental Health Days\",\n",
    "                min_value=0,\n",
    "                max_value=30,\n",
    "                value=min(modified_input[\"MentalHealthDays\"], 10),\n",
    "                help=\"Reduce days of mental health issues\",\n",
    "                key=\"sim_mental\"\n",
    "            )\n",
    "\n",
    "            # Smoking cessation\n",
    "            if modified_input[\"SmokerStatus\"] in [\"Current smoker - now smokes every day\", \"Current smoker - now smokes some days\"]:\n",
    "                quit_smoking = st.selectbox(\n",
    "                    \"Smoking Cessation Plan\",\n",
    "                    [\"Current smoker - now smokes some days\", \"Former smoker\", \"Never smoked\"],\n",
    "                    help=\"Progressive steps to quit smoking\",\n",
    "                    key=\"sim_smoking\"\n",
    "                )\n",
    "                modified_input[\"SmokerStatus\"] = quit_smoking\n",
    "\n",
    "        with sim_col3:\n",
    "            st.markdown(\"#### Chronic Condition Management\")\n",
    "\n",
    "            # General health improvement\n",
    "            current_health_index = CATEGORICAL_MAPPINGS[\"GeneralHealth\"].index(modified_input[\"GeneralHealth\"])\n",
    "            target_health_options = CATEGORICAL_MAPPINGS[\"GeneralHealth\"][current_health_index:]\n",
    "            target_health = st.selectbox(\n",
    "                \"Target General Health\",\n",
    "                target_health_options,\n",
    "                help=\"Set a goal for overall health improvement\",\n",
    "                key=\"sim_health\"\n",
    "            )\n",
    "            modified_input[\"GeneralHealth\"] = target_health\n",
    "\n",
    "            # Chronic condition management\n",
    "            st.markdown(\"##### Manageable Conditions\")\n",
    "            manageable_conditions = {\n",
    "                \"DifficultyWalking\": \"Improve Mobility\",\n",
    "                \"HadDiabetes\": \"Manage Diabetes\",\n",
    "                \"HadCOPD\": \"Manage COPD\"\n",
    "            }\n",
    "\n",
    "            for condition, label in manageable_conditions.items():\n",
    "                if modified_input[condition] == \"Yes\":\n",
    "                    improved_condition = st.selectbox(\n",
    "                        f\"Target {label}\",\n",
    "                        [\"Yes\", \"No\"],\n",
    "                        help=f\"Simulate improvement in {label.lower()} through proper management\",\n",
    "                        key=f\"sim_{condition}\"\n",
    "                    )\n",
    "                    modified_input[condition] = improved_condition\n",
    "\n",
    "        if st.button(\"Simulate Intervention Effects\", type=\"primary\", key=\"simulate_button\"):\n",
    "            with st.spinner(\"Calculating potential risk reduction...\"):\n",
    "                new_risk_probability, new_risk_class = calculate_risk(modified_input)\n",
    "                if new_risk_probability is not None:\n",
    "                    st.header(\"Intervention Impact Analysis\")\n",
    "\n",
    "                    # Current vs Potential Risk Comparison\n",
    "                    comp_col1, comp_col2 = st.columns(2)\n",
    "\n",
    "                    with comp_col1:\n",
    "                        st.subheader(\"Current Risk Profile\")\n",
    "                        display_risk_results(st.session_state['baseline_risk'],\n",
    "                                          1 if st.session_state['baseline_risk'] >= 0.5 else 0)\n",
    "\n",
    "                    with comp_col2:\n",
    "                        st.subheader(\"Potential Risk After Interventions\")\n",
    "                        display_risk_results(new_risk_probability, new_risk_class)\n",
    "\n",
    "                    # Calculate and display risk reduction\n",
    "                    risk_reduction = (st.session_state['baseline_risk'] - new_risk_probability) * 100\n",
    "\n",
    "                    if risk_reduction > 0:\n",
    "                        st.success(f\"Potential risk reduction: {risk_reduction:.1f}%\")\n",
    "\n",
    "                        # Detailed recommendations based on simulated changes\n",
    "                        st.markdown(\"### Personalized Intervention Plan\")\n",
    "\n",
    "                        recommendations = []\n",
    "                        if target_bmi < modified_input[\"BMI\"]:\n",
    "                            recommendations.append(\"- Implement a structured weight management program\")\n",
    "                        if modified_input[\"PhysicalHealthDays\"] < st.session_state['user_input'][\"PhysicalHealthDays\"]:\n",
    "                            recommendations.append(\"- Focus on improving physical health through regular exercise and preventive care\")\n",
    "                        if modified_input[\"MentalHealthDays\"] < st.session_state['user_input'][\"MentalHealthDays\"]:\n",
    "                            recommendations.append(\"- Consider mental health support and stress management techniques\")\n",
    "                        if modified_input[\"SmokerStatus\"] != st.session_state['user_input'][\"SmokerStatus\"]:\n",
    "                            recommendations.append(\"- Engage in a smoking cessation program with professional support\")\n",
    "\n",
    "                        if recommendations:\n",
    "                            st.markdown(\"#### Recommended Action Items:\")\n",
    "                            for rec in recommendations:  # Fixed here - added colon\n",
    "                                st.markdown(rec)\n",
    "\n",
    "                        st.markdown(\"\"\"\n",
    "                        #### Next Steps:\n",
    "                        1. Schedule a consultation with your healthcare provider\n",
    "                        2. Develop a personalized timeline for implementing changes\n",
    "                        3. Set up regular monitoring and progress checks\n",
    "                        4. Consider joining support groups or health programs\n",
    "                        \"\"\")\n",
    "                    else:\n",
    "                        st.info(\"The simulated changes show minimal risk reduction. Please consult with a healthcare provider for more personalized intervention strategies.\")\n",
    "\n",
    "if __name__ == \"__main__\":\n",
    "    main()"
   ]
  },
  {
   "cell_type": "code",
   "execution_count": null,
   "metadata": {},
   "outputs": [],
   "source": [
    "!wget -q -O - ipv4.icanhazip.com"
   ]
  },
  {
   "cell_type": "code",
   "execution_count": null,
   "metadata": {},
   "outputs": [],
   "source": [
    "! streamlit run app.py & npx localtunnel --port 8501"
   ]
  }
 ],
 "metadata": {
  "kernelspec": {
   "display_name": "Python 3",
   "language": "python",
   "name": "python3"
  },
  "language_info": {
   "codemirror_mode": {
    "name": "ipython",
    "version": 3
   },
   "file_extension": ".py",
   "mimetype": "text/x-python",
   "name": "python",
   "nbconvert_exporter": "python",
   "pygments_lexer": "ipython3",
   "version": "3.6.6"
  }
 },
 "nbformat": 4,
 "nbformat_minor": 4
}
